{
 "cells": [
  {
   "cell_type": "code",
   "execution_count": 39,
   "id": "427efbe9",
   "metadata": {},
   "outputs": [
    {
     "name": "stdout",
     "output_type": "stream",
     "text": [
      "enter true positive : 95\n",
      "enter false positive: 5\n",
      "enter true negative : 97\n",
      "enter false negative: 3\n",
      "\n",
      "accuracy :  0.96\n",
      "precision:  0.95\n",
      "recall   :  0.9693877551020408\n",
      "f1 score :  0.9595959595959594\n",
      "Specificity:  0.9509803921568627\n",
      "precision-recall:  0.9509803921568627\n",
      "True positive rate :  0.9693877551020408\n",
      "False positive rate:  0.0490196078431373\n"
     ]
    }
   ],
   "source": [
    "def cm(tp,tn,fp,fn):\n",
    "    acc = (tp+tn)/(tp+tn+fp+fn)\n",
    "    prc = tp/(tp+fp)\n",
    "    rec = tp/(tp+fn)\n",
    "    spc = tn/(tn+fp)\n",
    "    f1s = (2*prc*rec)/(prc+rec)\n",
    "    prcrec = tn/(tn+fp)\n",
    "    tpr = rec\n",
    "    fpr = 1 - spc\n",
    "    \n",
    "    print(\"\")\n",
    "    print(\"accuracy : \",acc)\n",
    "    print(\"precision: \",prc)\n",
    "    print(\"recall   : \",rec)\n",
    "    print(\"f1 score : \",f1s)\n",
    "    print(\"Specificity: \",spc)\n",
    "    print(\"precision-recall: \",prcrec)\n",
    "    print(\"True positive rate : \",tpr)\n",
    "    print(\"False positive rate: \",fpr)\n",
    "    \n",
    "\n",
    "tp=int(input(\"enter true positive : \"))\n",
    "fp=int(input(\"enter false positive: \"))\n",
    "tn=int(input(\"enter true negative : \"))\n",
    "fn=int(input(\"enter false negative: \"))\n",
    "\n",
    "cm(tp,tn,fp,fn)"
   ]
  },
  {
   "cell_type": "code",
   "execution_count": null,
   "id": "f17dd014",
   "metadata": {},
   "outputs": [],
   "source": [
    "import pandas as pd\n",
    "data = {'actual':[1,2,4,5,0,5,8,2,4,9],\n",
    "        'predicted':[1,7,3,7,6,1,2,5,4,3]}\n",
    "df = pd.DataFrame(data)\n",
    "df"
   ]
  },
  {
   "cell_type": "code",
   "execution_count": 23,
   "id": "19f5b5a1",
   "metadata": {},
   "outputs": [
    {
     "name": "stdout",
     "output_type": "stream",
     "text": [
      "mean absolute error:  0.1\n"
     ]
    }
   ],
   "source": [
    "x=df['actual']\n",
    "y=df['predicted']\n",
    "s=[]\n",
    "for i in range (len(x)):\n",
    "    s.append(y[i]-x[i])\n",
    "s = sum(s)\n",
    "mae = s/len(x)\n",
    "print(\"mean absolute error: \",mae)"
   ]
  },
  {
   "cell_type": "code",
   "execution_count": 30,
   "id": "77660409",
   "metadata": {},
   "outputs": [
    {
     "name": "stdout",
     "output_type": "stream",
     "text": [
      "mean squared error:  0.5\n"
     ]
    }
   ],
   "source": [
    "s=[]\n",
    "for i in range (len(x)):\n",
    "    s.append((x[i]-y[i])**2)\n",
    "s = sum(s)\n",
    "mse = (1/len(x)) * s\n",
    "print(\"mean squared error: \",mse)"
   ]
  },
  {
   "cell_type": "code",
   "execution_count": null,
   "id": "1c5625b7",
   "metadata": {},
   "outputs": [],
   "source": []
  },
  {
   "cell_type": "code",
   "execution_count": null,
   "id": "923e6c5a",
   "metadata": {},
   "outputs": [],
   "source": []
  }
 ],
 "metadata": {
  "kernelspec": {
   "display_name": "Python 3",
   "language": "python",
   "name": "python3"
  },
  "language_info": {
   "codemirror_mode": {
    "name": "ipython",
    "version": 3
   },
   "file_extension": ".py",
   "mimetype": "text/x-python",
   "name": "python",
   "nbconvert_exporter": "python",
   "pygments_lexer": "ipython3",
   "version": "3.8.8"
  }
 },
 "nbformat": 4,
 "nbformat_minor": 5
}
